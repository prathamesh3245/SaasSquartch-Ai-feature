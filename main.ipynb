{
 "cells": [
  {
   "cell_type": "code",
   "execution_count": 4,
   "id": "733d4f2a",
   "metadata": {},
   "outputs": [],
   "source": [
    "import numpy as np\n",
    "import pandas as pd"
   ]
  },
  {
   "cell_type": "code",
   "execution_count": 6,
   "id": "6d6be193",
   "metadata": {},
   "outputs": [
    {
     "data": {
      "text/html": [
       "<div>\n",
       "<style scoped>\n",
       "    .dataframe tbody tr th:only-of-type {\n",
       "        vertical-align: middle;\n",
       "    }\n",
       "\n",
       "    .dataframe tbody tr th {\n",
       "        vertical-align: top;\n",
       "    }\n",
       "\n",
       "    .dataframe thead th {\n",
       "        text-align: right;\n",
       "    }\n",
       "</style>\n",
       "<table border=\"1\" class=\"dataframe\">\n",
       "  <thead>\n",
       "    <tr style=\"text-align: right;\">\n",
       "      <th></th>\n",
       "      <th>company_name</th>\n",
       "      <th>arr_million</th>\n",
       "      <th>growth_rate_pct</th>\n",
       "      <th>burn_rate_pct</th>\n",
       "      <th>runway_months</th>\n",
       "      <th>churn_rate_pct</th>\n",
       "      <th>cash_flow_status</th>\n",
       "      <th>acquisition_candidate</th>\n",
       "    </tr>\n",
       "  </thead>\n",
       "  <tbody>\n",
       "    <tr>\n",
       "      <th>0</th>\n",
       "      <td>Company_1</td>\n",
       "      <td>4.37</td>\n",
       "      <td>11.4</td>\n",
       "      <td>62.8</td>\n",
       "      <td>4</td>\n",
       "      <td>12.5</td>\n",
       "      <td>Negative</td>\n",
       "      <td>No</td>\n",
       "    </tr>\n",
       "    <tr>\n",
       "      <th>1</th>\n",
       "      <td>Company_2</td>\n",
       "      <td>9.56</td>\n",
       "      <td>77.9</td>\n",
       "      <td>29.8</td>\n",
       "      <td>8</td>\n",
       "      <td>6.0</td>\n",
       "      <td>Positive</td>\n",
       "      <td>Yes</td>\n",
       "    </tr>\n",
       "    <tr>\n",
       "      <th>2</th>\n",
       "      <td>Company_3</td>\n",
       "      <td>7.59</td>\n",
       "      <td>68.3</td>\n",
       "      <td>40.5</td>\n",
       "      <td>6</td>\n",
       "      <td>3.3</td>\n",
       "      <td>Positive</td>\n",
       "      <td>No</td>\n",
       "    </tr>\n",
       "    <tr>\n",
       "      <th>3</th>\n",
       "      <td>Company_4</td>\n",
       "      <td>6.39</td>\n",
       "      <td>24.9</td>\n",
       "      <td>45.6</td>\n",
       "      <td>10</td>\n",
       "      <td>10.9</td>\n",
       "      <td>Positive</td>\n",
       "      <td>No</td>\n",
       "    </tr>\n",
       "    <tr>\n",
       "      <th>4</th>\n",
       "      <td>Company_5</td>\n",
       "      <td>2.40</td>\n",
       "      <td>22.7</td>\n",
       "      <td>51.9</td>\n",
       "      <td>8</td>\n",
       "      <td>7.7</td>\n",
       "      <td>Negative</td>\n",
       "      <td>No</td>\n",
       "    </tr>\n",
       "  </tbody>\n",
       "</table>\n",
       "</div>"
      ],
      "text/plain": [
       "  company_name  arr_million  growth_rate_pct  burn_rate_pct  runway_months  \\\n",
       "0    Company_1         4.37             11.4           62.8              4   \n",
       "1    Company_2         9.56             77.9           29.8              8   \n",
       "2    Company_3         7.59             68.3           40.5              6   \n",
       "3    Company_4         6.39             24.9           45.6             10   \n",
       "4    Company_5         2.40             22.7           51.9              8   \n",
       "\n",
       "   churn_rate_pct cash_flow_status acquisition_candidate  \n",
       "0            12.5         Negative                    No  \n",
       "1             6.0         Positive                   Yes  \n",
       "2             3.3         Positive                    No  \n",
       "3            10.9         Positive                    No  \n",
       "4             7.7         Negative                    No  "
      ]
     },
     "execution_count": 6,
     "metadata": {},
     "output_type": "execute_result"
    }
   ],
   "source": [
    "\n",
    "np.random.seed(42)\n",
    "n = 10\n",
    "data = {\n",
    "    \"company_name\": [f\"Company_{i}\" for i in range(1, n+1)],\n",
    "    \"arr_million\": np.round(np.random.uniform(1, 10, n), 2),\n",
    "    \"growth_rate_pct\": np.round(np.random.uniform(10, 80, n), 1),\n",
    "    \"burn_rate_pct\": np.round(np.random.uniform(20, 90, n), 1),\n",
    "    \"runway_months\": np.random.randint(2, 18, n),\n",
    "    \"churn_rate_pct\": np.round(np.random.uniform(2, 15, n), 1),\n",
    "}\n",
    "\n",
    "\n",
    "df = pd.DataFrame(data)\n",
    "df[\"cash_flow_status\"] = np.where(df[\"burn_rate_pct\"] < 50, \"Positive\", \"Negative\")\n",
    "df[\"acquisition_candidate\"] = np.where(\n",
    "    (df[\"growth_rate_pct\"] > 30) &\n",
    "    (df[\"burn_rate_pct\"] < 50) &\n",
    "    (df[\"runway_months\"] > 6) &\n",
    "    (df[\"churn_rate_pct\"] < 10),\n",
    "    \"Yes\", \"No\"\n",
    ")\n",
    "\n",
    "df.to_csv(\"simulated_saas_data.csv\", index=False)\n",
    "df.head()\n"
   ]
  },
  {
   "cell_type": "code",
   "execution_count": 3,
   "id": "b0063623",
   "metadata": {},
   "outputs": [
    {
     "data": {
      "text/html": [
       "<div>\n",
       "<style scoped>\n",
       "    .dataframe tbody tr th:only-of-type {\n",
       "        vertical-align: middle;\n",
       "    }\n",
       "\n",
       "    .dataframe tbody tr th {\n",
       "        vertical-align: top;\n",
       "    }\n",
       "\n",
       "    .dataframe thead th {\n",
       "        text-align: right;\n",
       "    }\n",
       "</style>\n",
       "<table border=\"1\" class=\"dataframe\">\n",
       "  <thead>\n",
       "    <tr style=\"text-align: right;\">\n",
       "      <th></th>\n",
       "      <th>CompanyName</th>\n",
       "      <th>Revenue</th>\n",
       "      <th>EmailScore</th>\n",
       "      <th>DomainAge</th>\n",
       "      <th>FounderLinkedIn</th>\n",
       "      <th>RegistryVerified</th>\n",
       "      <th>FundingHistory</th>\n",
       "      <th>confidence_score</th>\n",
       "      <th>deal_ready</th>\n",
       "    </tr>\n",
       "  </thead>\n",
       "  <tbody>\n",
       "    <tr>\n",
       "      <th>0</th>\n",
       "      <td>Company_0</td>\n",
       "      <td>4370861.07</td>\n",
       "      <td>81</td>\n",
       "      <td>3</td>\n",
       "      <td>1</td>\n",
       "      <td>1</td>\n",
       "      <td>0</td>\n",
       "      <td>52.524172</td>\n",
       "      <td>False</td>\n",
       "    </tr>\n",
       "    <tr>\n",
       "      <th>1</th>\n",
       "      <td>Company_1</td>\n",
       "      <td>9556428.76</td>\n",
       "      <td>88</td>\n",
       "      <td>10</td>\n",
       "      <td>1</td>\n",
       "      <td>1</td>\n",
       "      <td>0</td>\n",
       "      <td>56.011286</td>\n",
       "      <td>False</td>\n",
       "    </tr>\n",
       "    <tr>\n",
       "      <th>2</th>\n",
       "      <td>Company_2</td>\n",
       "      <td>7587945.48</td>\n",
       "      <td>98</td>\n",
       "      <td>3</td>\n",
       "      <td>1</td>\n",
       "      <td>1</td>\n",
       "      <td>0</td>\n",
       "      <td>56.567589</td>\n",
       "      <td>False</td>\n",
       "    </tr>\n",
       "    <tr>\n",
       "      <th>3</th>\n",
       "      <td>Company_3</td>\n",
       "      <td>6387926.36</td>\n",
       "      <td>81</td>\n",
       "      <td>3</td>\n",
       "      <td>1</td>\n",
       "      <td>1</td>\n",
       "      <td>0</td>\n",
       "      <td>52.927585</td>\n",
       "      <td>False</td>\n",
       "    </tr>\n",
       "    <tr>\n",
       "      <th>4</th>\n",
       "      <td>Company_4</td>\n",
       "      <td>2404167.76</td>\n",
       "      <td>53</td>\n",
       "      <td>4</td>\n",
       "      <td>0</td>\n",
       "      <td>1</td>\n",
       "      <td>0</td>\n",
       "      <td>21.680834</td>\n",
       "      <td>False</td>\n",
       "    </tr>\n",
       "  </tbody>\n",
       "</table>\n",
       "</div>"
      ],
      "text/plain": [
       "  CompanyName     Revenue  EmailScore  DomainAge  FounderLinkedIn  \\\n",
       "0   Company_0  4370861.07          81          3                1   \n",
       "1   Company_1  9556428.76          88         10                1   \n",
       "2   Company_2  7587945.48          98          3                1   \n",
       "3   Company_3  6387926.36          81          3                1   \n",
       "4   Company_4  2404167.76          53          4                0   \n",
       "\n",
       "   RegistryVerified  FundingHistory  confidence_score  deal_ready  \n",
       "0                 1               0         52.524172       False  \n",
       "1                 1               0         56.011286       False  \n",
       "2                 1               0         56.567589       False  \n",
       "3                 1               0         52.927585       False  \n",
       "4                 1               0         21.680834       False  "
      ]
     },
     "execution_count": 3,
     "metadata": {},
     "output_type": "execute_result"
    }
   ],
   "source": [
    "import pandas as pd\n",
    "import numpy as np\n",
    "import matplotlib.pyplot as plt\n",
    "import seaborn as sns\n",
    "\n",
    "# Simulate a dataset similar to company leads\n",
    "np.random.seed(42)\n",
    "n = 100\n",
    "data = {\n",
    "    'CompanyName': [f'Company_{i}' for i in range(n)],\n",
    "    'Revenue': np.random.uniform(1_000_000, 10_000_000, n).round(2),\n",
    "    'EmailScore': np.random.randint(50, 100, n),\n",
    "    'DomainAge': np.random.randint(1, 15, n),  # in years\n",
    "    'FounderLinkedIn': np.random.choice([1, 0], n, p=[0.85, 0.15]),  # 1 = present, 0 = not\n",
    "    'RegistryVerified': np.random.choice([1, 0], n, p=[0.75, 0.25]),\n",
    "    'FundingHistory': np.random.choice([1, 0], n, p=[0.4, 0.6])  # 1 = has history, 0 = none\n",
    "}\n",
    "\n",
    "df = pd.DataFrame(data)\n",
    "\n",
    "# Simulate a \"confidence score\" using weighted logic (mock ML)\n",
    "df['confidence_score'] = (\n",
    "    df['Revenue'] / 1_000_000 * 0.2 +  # 20%\n",
    "    df['EmailScore'] * 0.2 +           # 20%\n",
    "    df['DomainAge'] * 0.15 +           # 15%\n",
    "    df['FounderLinkedIn'] * 25 +       # 25%\n",
    "    df['RegistryVerified'] * 10 +      # 10%\n",
    "    df['FundingHistory'] * 10          # 10%\n",
    ")\n",
    "\n",
    "# Classify as \"Deal Ready\" if score above a threshold\n",
    "df['deal_ready'] = df['confidence_score'] > 60\n",
    "\n",
    "df.head()\n",
    "\n",
    "\n",
    "# df.to_csv('simulated_deals.csv')\n",
    "# df.head()"
   ]
  },
  {
   "cell_type": "code",
   "execution_count": null,
   "id": "c25877e8",
   "metadata": {},
   "outputs": [
    {
     "ename": "ModuleNotFoundError",
     "evalue": "No module named 'networkx'",
     "output_type": "error",
     "traceback": [
      "\u001b[1;31m---------------------------------------------------------------------------\u001b[0m",
      "\u001b[1;31mModuleNotFoundError\u001b[0m                       Traceback (most recent call last)",
      "Cell \u001b[1;32mIn[1], line 3\u001b[0m\n\u001b[0;32m      1\u001b[0m \u001b[38;5;28;01mimport\u001b[39;00m\u001b[38;5;250m \u001b[39m\u001b[38;5;21;01mpandas\u001b[39;00m\u001b[38;5;250m \u001b[39m\u001b[38;5;28;01mas\u001b[39;00m\u001b[38;5;250m \u001b[39m\u001b[38;5;21;01mpd\u001b[39;00m\n\u001b[0;32m      2\u001b[0m \u001b[38;5;28;01mimport\u001b[39;00m\u001b[38;5;250m \u001b[39m\u001b[38;5;21;01mstreamlit\u001b[39;00m\u001b[38;5;250m \u001b[39m\u001b[38;5;28;01mas\u001b[39;00m\u001b[38;5;250m \u001b[39m\u001b[38;5;21;01mst\u001b[39;00m\n\u001b[1;32m----> 3\u001b[0m \u001b[38;5;28;01mfrom\u001b[39;00m\u001b[38;5;250m \u001b[39m\u001b[38;5;21;01mnetworkx\u001b[39;00m\u001b[38;5;250m \u001b[39m\u001b[38;5;28;01mimport\u001b[39;00m nx\n\u001b[0;32m      4\u001b[0m \u001b[38;5;66;03m# Load the simulated CSV\u001b[39;00m\n\u001b[0;32m      5\u001b[0m df \u001b[38;5;241m=\u001b[39m pd\u001b[38;5;241m.\u001b[39mread_csv(\u001b[38;5;124m'\u001b[39m\u001b[38;5;124msimulated_deals.csv\u001b[39m\u001b[38;5;124m'\u001b[39m)\n",
      "\u001b[1;31mModuleNotFoundError\u001b[0m: No module named 'networkx'"
     ]
    }
   ],
   "source": [
    "import pandas as pd\n",
    "import streamlit as st\n",
    "# Load the simulated CSV\n",
    "df = pd.read_csv('simulated_deals.csv')\n",
    "\n",
    "# Create the network\n",
    "G = nx.Graph()\n",
    "\n",
    "# Simulated sample partners/investors/customers\n",
    "investors = ['Accel', 'Sequoia', 'SoftBank', 'Andreessen Horowitz']\n",
    "partners = ['Salesforce', 'Google Cloud', 'AWS', 'Stripe']\n",
    "customers = ['Meta', 'Netflix', 'Airbnb', 'Uber']\n",
    "\n",
    "# Loop through companies and assign fake connections\n",
    "for index, row in df.iterrows():\n",
    "    company = row['CompanyName']\n",
    "    score = row['confidence_score']\n",
    "\n",
    "    G.add_node(company, title=f\"{company}<br>Score: {score}\", group='company')\n",
    "\n",
    "    # Add 1 investor, 1 partner, 1 customer for each company\n",
    "    inv = investors[index % len(investors)]\n",
    "    part = partners[index % len(partners)]\n",
    "    cust = customers[index % len(customers)]\n",
    "\n",
    "    G.add_node(inv, group='investor')\n",
    "    G.add_node(part, group='partner')\n",
    "    G.add_node(cust, group='customer')\n",
    "\n",
    "    G.add_edge(company, inv)\n",
    "    G.add_edge(company, part)\n",
    "    G.add_edge(company, cust)\n",
    "\n",
    "# Create PyVis network\n",
    "# net = Network(height='600px', width='100%', notebook=False)\n",
    "# net.from_nx(G)\n",
    "\n",
    "# # Save and render\n",
    "# net.save_graph('network.html')\n",
    "\n",
    "# Streamlit display\n",
    "st.title(\"Company Network Intelligence Map\")\n",
    "# st.components.v1.html(open('network.html', 'r', encoding='utf-8').read(), height=650)\n"
   ]
  },
  {
   "cell_type": "code",
   "execution_count": 3,
   "id": "4cf9866f",
   "metadata": {},
   "outputs": [
    {
     "data": {
      "application/vnd.plotly.v1+json": {
       "config": {
        "plotlyServerURL": "https://plot.ly"
       },
       "data": [
        {
         "hoverinfo": "none",
         "line": {
          "color": "gray",
          "width": 1
         },
         "mode": "lines",
         "type": "scatter",
         "x": [
          1,
          -0.14231483827328523,
          null,
          0.9979866764718844,
          -0.20480666806519054,
          null,
          0.9919548128307953,
          0.8052702575310586,
          null,
          0.9919548128307953,
          0.9283679330160727,
          null,
          0.9819286972627067,
          0.766044443118978,
          null,
          0.9819286972627067,
          -0.3863451256931287,
          null,
          0.9819286972627067,
          -0.7860530947427875,
          null,
          0.9819286972627067,
          -0.01586596383480761,
          null,
          0.9819286972627067,
          0.9819286972627068,
          null,
          0.9679487013963562,
          0.9283679330160726,
          null,
          0.9679487013963562,
          0.8412535328311812,
          null,
          0.9500711177409454,
          0.1108381999010111,
          null,
          0.9029265382866212,
          -0.3270679633174219,
          null,
          0.8738493770697849,
          -0.9954719225730846,
          null,
          0.8412535328311812,
          -0.4999999999999996,
          null,
          0.8412535328311812,
          0.7660444431189778,
          null,
          0.766044443118978,
          -0.3863451256931287,
          null,
          0.766044443118978,
          -0.7860530947427875,
          null,
          0.766044443118978,
          -0.01586596383480761,
          null,
          0.766044443118978,
          0.9819286972627068,
          null,
          0.5800569095711982,
          0.41541501300188644,
          null,
          0.5272254676105024,
          -0.7014748877063214,
          null,
          0.5272254676105024,
          0.9283679330160727,
          null,
          0.4722710747726827,
          -0.7452644496757547,
          null,
          0.4722710747726827,
          -0.6056096871376666,
          null,
          0.3568862215918719,
          0.6305526670845228,
          null,
          0.1108381999010111,
          -0.9161084574320696,
          null,
          -0.26647381369003503,
          0.5800569095711979,
          null,
          -0.3863451256931287,
          -0.01586596383480761,
          null,
          -0.4440666126057741,
          -0.20480666806519054,
          null,
          -0.5000000000000002,
          -0.7860530947427874,
          null,
          -0.5000000000000002,
          0.6785094115571323,
          null,
          -0.6056096871376668,
          -0.3270679633174219,
          null,
          -0.7014748877063214,
          -0.9396926207859083,
          null,
          -0.7014748877063214,
          -0.6548607339452852,
          null,
          -0.7014748877063214,
          0.4722710747726829,
          null,
          -0.7014748877063214,
          0.9283679330160727,
          null,
          -0.7452644496757547,
          -0.6056096871376666,
          null,
          -0.7860530947427875,
          -0.01586596383480761,
          null,
          -0.7860530947427875,
          0.9819286972627068,
          null,
          -0.8579834132349771,
          0.5272254676105024,
          null,
          -0.9396926207859083,
          -0.6548607339452852,
          null,
          -0.9874388886763943,
          0.11083819990101086,
          null,
          -0.9954719225730846,
          1,
          null,
          -0.9994965423831851,
          0.5272254676105024,
          null,
          -0.9874388886763943,
          0.8738493770697848,
          null,
          -0.9874388886763943,
          0.9919548128307953,
          null,
          -0.9594929736144974,
          0.23575893550942748,
          null,
          -0.7014748877063213,
          0.23575893550942748,
          null,
          -0.6548607339452852,
          0.4722710747726829,
          null,
          -0.4999999999999996,
          0.7660444431189778,
          null,
          -0.20480666806519054,
          0.8738493770697848,
          null,
          -0.01586596383480761,
          0.9819286972627068,
          null,
          0.4154150130018868,
          0.7660444431189778,
          null,
          0.8738493770697848,
          0.9919548128307953,
          null
         ],
         "y": [
          0,
          -0.9898214418809327,
          null,
          0.0634239196565645,
          -0.9788024462147787,
          null,
          0.12659245357374926,
          0.5929079290546404,
          null,
          0.12659245357374926,
          -0.37166245566032724,
          null,
          0.18925124436041021,
          0.6427876096865393,
          null,
          0.18925124436041021,
          0.9223542941045814,
          null,
          0.18925124436041021,
          0.6181589862206052,
          null,
          0.18925124436041021,
          -0.9998741276738751,
          null,
          0.18925124436041021,
          -0.18925124436040974,
          null,
          0.2511479871810792,
          0.3716624556603276,
          null,
          0.2511479871810792,
          0.5406408174555976,
          null,
          0.3120334456984871,
          0.9938384644612541,
          null,
          0.42979491208917164,
          -0.9450008187146683,
          null,
          0.4861967361004687,
          -0.09505604330418263,
          null,
          0.5406408174555976,
          -0.8660254037844388,
          null,
          0.5406408174555976,
          -0.6427876096865396,
          null,
          0.6427876096865393,
          0.9223542941045814,
          null,
          0.6427876096865393,
          0.6181589862206052,
          null,
          0.6427876096865393,
          -0.9998741276738751,
          null,
          0.6427876096865393,
          -0.18925124436040974,
          null,
          0.8145759520503357,
          0.9096319953545183,
          null,
          0.8497254299495144,
          0.7126941713788627,
          null,
          0.8497254299495144,
          -0.37166245566032724,
          null,
          0.8814533634475821,
          0.6667690005162916,
          null,
          0.8814533634475821,
          -0.7957618405308321,
          null,
          0.9341478602651067,
          -0.7761464642917566,
          null,
          0.9938384644612541,
          -0.4009305354066138,
          null,
          0.963842158559942,
          -0.8145759520503358,
          null,
          0.9223542941045814,
          -0.9998741276738751,
          null,
          0.8959937742913359,
          -0.9788024462147787,
          null,
          0.8660254037844386,
          -0.6181589862206053,
          null,
          0.8660254037844386,
          -0.7345917086575331,
          null,
          0.795761840530832,
          -0.9450008187146683,
          null,
          0.7126941713788627,
          0.3420201433256689,
          null,
          0.7126941713788627,
          -0.7557495743542582,
          null,
          0.7126941713788627,
          -0.881453363447582,
          null,
          0.7126941713788627,
          -0.37166245566032724,
          null,
          0.6667690005162916,
          -0.7957618405308321,
          null,
          0.6181589862206052,
          -0.9998741276738751,
          null,
          0.6181589862206052,
          -0.18925124436040974,
          null,
          0.5136773915734063,
          -0.8497254299495144,
          null,
          0.3420201433256689,
          -0.7557495743542582,
          null,
          0.1580013959733499,
          -0.9938384644612541,
          null,
          0.09505604330418244,
          -2.4492935982947064e-16,
          null,
          -0.03172793349806786,
          -0.8497254299495144,
          null,
          -0.15800139597335008,
          -0.4861967361004688,
          null,
          -0.15800139597335008,
          -0.12659245357374904,
          null,
          -0.28173255684142984,
          -0.9718115683235417,
          null,
          -0.7126941713788629,
          -0.9718115683235417,
          null,
          -0.7557495743542582,
          -0.881453363447582,
          null,
          -0.8660254037844388,
          -0.6427876096865396,
          null,
          -0.9788024462147787,
          -0.4861967361004688,
          null,
          -0.9998741276738751,
          -0.18925124436040974,
          null,
          -0.9096319953545182,
          -0.6427876096865396,
          null,
          -0.4861967361004688,
          -0.12659245357374904,
          null
         ]
        },
        {
         "hoverinfo": "text",
         "hovertext": [
          "Company_0<br>Revenue: 6523388<br>Confidence: 60.95536049450815",
          "Company_1<br>Revenue: 6650634<br>Confidence: 67.21397570017822",
          "Company_2<br>Revenue: 4404572<br>Confidence: 12.649071608279444",
          "Company_3<br>Revenue: 2334489<br>Confidence: 63.775161171284935",
          "Company_4<br>Revenue: 9624682<br>Confidence: 81.25844102869694",
          "Company_5<br>Revenue: 7304212<br>Confidence: 44.54230986307089",
          "Company_6<br>Revenue: 9728519<br>Confidence: 61.4694797026919",
          "Company_7<br>Revenue: 4572471<br>Confidence: 58.32364344354447",
          "Company_8<br>Revenue: 4623669<br>Confidence: 51.09436510054402",
          "Company_9<br>Revenue: 7504852<br>Confidence: 76.95009128539965",
          "Company_10<br>Revenue: 5081505<br>Confidence: 34.0248725530625",
          "Company_11<br>Revenue: 1866891<br>Confidence: 60.8248133965736",
          "Company_12<br>Revenue: 4621373<br>Confidence: 81.0896987022901",
          "Company_13<br>Revenue: 6119877<br>Confidence: 66.13526335781906",
          "Company_14<br>Revenue: 3444769<br>Confidence: 50.03169804121701",
          "Company_15<br>Revenue: 9280351<br>Confidence: 60.558621526444725",
          "Company_16<br>Revenue: 203355<br>Confidence: 22.110503806386745",
          "Company_17<br>Revenue: 1362752<br>Confidence: 35.13353290179989",
          "Company_18<br>Revenue: 9884633<br>Confidence: 50.45343299697734",
          "Company_19<br>Revenue: 5764789<br>Confidence: 54.74691462530373",
          "Company_20<br>Revenue: 9795979<br>Confidence: 46.27325230411882",
          "Company_21<br>Revenue: 9405648<br>Confidence: 64.1466089111812",
          "Company_22<br>Revenue: 5843066<br>Confidence: 72.23933840119902",
          "Company_23<br>Revenue: 6213790<br>Confidence: 40.32613246026703",
          "Company_24<br>Revenue: 4821339<br>Confidence: 36.82944361804663",
          "Company_25<br>Revenue: 9989550<br>Confidence: 89.33333333333333",
          "Company_26<br>Revenue: 3375709<br>Confidence: 48.558006927650304",
          "Company_27<br>Revenue: 184654<br>Confidence: 25.40582916334962",
          "Company_28<br>Revenue: 5247581<br>Confidence: 79.6957393168916",
          "Company_29<br>Revenue: 2054354<br>Confidence: 60.53914717236116",
          "Company_30<br>Revenue: 8342680<br>Confidence: 57.986229111889166",
          "Company_31<br>Revenue: 2528388<br>Confidence: 68.83590882882145",
          "Company_32<br>Revenue: 9016786<br>Confidence: 70.02295111886858",
          "Company_33<br>Revenue: 2763046<br>Confidence: 43.979495217382144",
          "Company_34<br>Revenue: 5599720<br>Confidence: 39.74476115838594",
          "Company_35<br>Revenue: 6740913<br>Confidence: 71.39745904859538",
          "Company_36<br>Revenue: 3516664<br>Confidence: 58.84448435181473",
          "Company_37<br>Revenue: 3485659<br>Confidence: 32.781469683756",
          "Company_38<br>Revenue: 3485357<br>Confidence: 41.44752256458961",
          "Company_39<br>Revenue: 1565689<br>Confidence: 64.21264942145267",
          "Company_40<br>Revenue: 168148<br>Confidence: 52.70561564582093",
          "Company_41<br>Revenue: 1925665<br>Confidence: 63.61093254188835",
          "Company_42<br>Revenue: 2845683<br>Confidence: 71.48078027219167",
          "Company_43<br>Revenue: 4156518<br>Confidence: 60.8115924768284",
          "Company_44<br>Revenue: 2769995<br>Confidence: 33.32695172208591",
          "Company_45<br>Revenue: 5097895<br>Confidence: 50.7248503117944",
          "Company_46<br>Revenue: 6497986<br>Confidence: 74.23706671614893",
          "Company_47<br>Revenue: 1970928<br>Confidence: 48.36959188458604",
          "Company_48<br>Revenue: 4255299<br>Confidence: 37.012355319128325",
          "Company_49<br>Revenue: 6349859<br>Confidence: 48.60267956131792",
          "Company_50<br>Revenue: 2405413<br>Confidence: 58.58597401816116",
          "Company_51<br>Revenue: 4010197<br>Confidence: 51.84754250924185",
          "Company_52<br>Revenue: 5658019<br>Confidence: 53.86324824540919",
          "Company_53<br>Revenue: 5514709<br>Confidence: 46.238651177855694",
          "Company_54<br>Revenue: 371836<br>Confidence: 58.45292516710929",
          "Company_55<br>Revenue: 3684702<br>Confidence: 45.1860053578219",
          "Company_56<br>Revenue: 7381369<br>Confidence: 38.69912401380165",
          "Company_57<br>Revenue: 2399435<br>Confidence: 18.573824310512222",
          "Company_58<br>Revenue: 8685377<br>Confidence: 84.01606100028529",
          "Company_59<br>Revenue: 2758505<br>Confidence: 31.30359940678209",
          "Company_60<br>Revenue: 1371741<br>Confidence: 36.48513550948188",
          "Company_61<br>Revenue: 3869315<br>Confidence: 60.89454678386047",
          "Company_62<br>Revenue: 1146797<br>Confidence: 53.361291887749815",
          "Company_63<br>Revenue: 3147262<br>Confidence: 14.093710463402209",
          "Company_64<br>Revenue: 664685<br>Confidence: 23.048112476457145",
          "Company_65<br>Revenue: 2979190<br>Confidence: 49.752120355678734",
          "Company_66<br>Revenue: 5696411<br>Confidence: 73.27460961086996",
          "Company_67<br>Revenue: 9800344<br>Confidence: 36.28212374505017",
          "Company_68<br>Revenue: 1107293<br>Confidence: 71.94767048968525",
          "Company_69<br>Revenue: 4874183<br>Confidence: 56.93684394440998",
          "Company_70<br>Revenue: 3466612<br>Confidence: 78.07609182913531",
          "Company_71<br>Revenue: 8511855<br>Confidence: 74.99672762725234",
          "Company_72<br>Revenue: 5367180<br>Confidence: 56.60547940027028",
          "Company_73<br>Revenue: 7907313<br>Confidence: 68.43472106516367",
          "Company_74<br>Revenue: 2804238<br>Confidence: 64.72988064575419",
          "Company_75<br>Revenue: 2730708<br>Confidence: 66.58043802223031",
          "Company_76<br>Revenue: 3594679<br>Confidence: 49.66970897134711",
          "Company_77<br>Revenue: 5617209<br>Confidence: 29.78030586181053",
          "Company_78<br>Revenue: 1867640<br>Confidence: 52.82633566673569",
          "Company_79<br>Revenue: 6823771<br>Confidence: 68.89919326456086",
          "Company_80<br>Revenue: 1385160<br>Confidence: 65.17907499765089",
          "Company_81<br>Revenue: 6180526<br>Confidence: 73.59185992621427",
          "Company_82<br>Revenue: 5273036<br>Confidence: 12.41414081263212",
          "Company_83<br>Revenue: 1525472<br>Confidence: 58.797578919749135",
          "Company_84<br>Revenue: 148984<br>Confidence: 54.66666666666667",
          "Company_85<br>Revenue: 6656168<br>Confidence: 65.22522302070837",
          "Company_86<br>Revenue: 1604384<br>Confidence: 25.62462660514988",
          "Company_87<br>Revenue: 2330919<br>Confidence: 59.10123882440639",
          "Company_88<br>Revenue: 7040119<br>Confidence: 80.0055663464886",
          "Company_89<br>Revenue: 1837095<br>Confidence: 41.43092257091716",
          "Company_90<br>Revenue: 4880450<br>Confidence: 35.61624768331415",
          "Company_91<br>Revenue: 7569344<br>Confidence: 53.081165046807264",
          "Company_92<br>Revenue: 2209818<br>Confidence: 41.52177940442315",
          "Company_93<br>Revenue: 2331785<br>Confidence: 28.436332219102034",
          "Company_94<br>Revenue: 3953339<br>Confidence: 65.06531744888116",
          "Company_95<br>Revenue: 9567719<br>Confidence: 51.14266923264375",
          "Company_96<br>Revenue: 1096107<br>Confidence: 61.25826935835467",
          "Company_97<br>Revenue: 7230144<br>Confidence: 52.391773806506656",
          "Company_98<br>Revenue: 4645583<br>Confidence: 57.13890318910519",
          "Company_99<br>Revenue: 3847389<br>Confidence: 36.18331763979159"
         ],
         "marker": {
          "color": {
           "bdata": "AQAAAAIAAAAAAAAAAQAAAAEAAAAAAAAAAQAAAAIAAAAAAAAAAQAAAAAAAAABAAAAAQAAAAIAAAAAAAAAAAAAAAAAAAAAAAAAAQAAAAEAAAACAAAAAQAAAAIAAAAAAAAAAgAAAAIAAAAAAAAAAAAAAAIAAAACAAAAAQAAAAEAAAACAAAAAAAAAAAAAAACAAAAAgAAAAAAAAAAAAAAAQAAAAAAAAACAAAAAQAAAAEAAAAAAAAAAgAAAAEAAAACAAAAAAAAAAIAAAACAAAAAAAAAAIAAAABAAAAAgAAAAIAAAAAAAAAAAAAAAIAAAABAAAAAAAAAAIAAAACAAAAAAAAAAAAAAABAAAAAQAAAAAAAAABAAAAAgAAAAIAAAACAAAAAQAAAAEAAAABAAAAAQAAAAIAAAAAAAAAAgAAAAEAAAACAAAAAQAAAAAAAAACAAAAAAAAAAEAAAAAAAAAAgAAAAEAAAACAAAAAQAAAAIAAAAAAAAAAAAAAAEAAAACAAAAAQAAAAIAAAABAAAAAAAAAA==",
           "dtype": "i4"
          },
          "colorbar": {
           "thickness": 15,
           "title": {
            "text": "Cluster"
           },
           "xanchor": "left"
          },
          "colorscale": [
           [
            0,
            "#440154"
           ],
           [
            0.1111111111111111,
            "#482878"
           ],
           [
            0.2222222222222222,
            "#3e4989"
           ],
           [
            0.3333333333333333,
            "#31688e"
           ],
           [
            0.4444444444444444,
            "#26828e"
           ],
           [
            0.5555555555555556,
            "#1f9e89"
           ],
           [
            0.6666666666666666,
            "#35b779"
           ],
           [
            0.7777777777777778,
            "#6ece58"
           ],
           [
            0.8888888888888888,
            "#b5de2b"
           ],
           [
            1,
            "#fde725"
           ]
          ],
          "line": {
           "width": 2
          },
          "showscale": true,
          "size": 15
         },
         "mode": "markers+text",
         "text": [
          "Company_0",
          "Company_1",
          "Company_2",
          "Company_3",
          "Company_4",
          "Company_5",
          "Company_6",
          "Company_7",
          "Company_8",
          "Company_9",
          "Company_10",
          "Company_11",
          "Company_12",
          "Company_13",
          "Company_14",
          "Company_15",
          "Company_16",
          "Company_17",
          "Company_18",
          "Company_19",
          "Company_20",
          "Company_21",
          "Company_22",
          "Company_23",
          "Company_24",
          "Company_25",
          "Company_26",
          "Company_27",
          "Company_28",
          "Company_29",
          "Company_30",
          "Company_31",
          "Company_32",
          "Company_33",
          "Company_34",
          "Company_35",
          "Company_36",
          "Company_37",
          "Company_38",
          "Company_39",
          "Company_40",
          "Company_41",
          "Company_42",
          "Company_43",
          "Company_44",
          "Company_45",
          "Company_46",
          "Company_47",
          "Company_48",
          "Company_49",
          "Company_50",
          "Company_51",
          "Company_52",
          "Company_53",
          "Company_54",
          "Company_55",
          "Company_56",
          "Company_57",
          "Company_58",
          "Company_59",
          "Company_60",
          "Company_61",
          "Company_62",
          "Company_63",
          "Company_64",
          "Company_65",
          "Company_66",
          "Company_67",
          "Company_68",
          "Company_69",
          "Company_70",
          "Company_71",
          "Company_72",
          "Company_73",
          "Company_74",
          "Company_75",
          "Company_76",
          "Company_77",
          "Company_78",
          "Company_79",
          "Company_80",
          "Company_81",
          "Company_82",
          "Company_83",
          "Company_84",
          "Company_85",
          "Company_86",
          "Company_87",
          "Company_88",
          "Company_89",
          "Company_90",
          "Company_91",
          "Company_92",
          "Company_93",
          "Company_94",
          "Company_95",
          "Company_96",
          "Company_97",
          "Company_98",
          "Company_99"
         ],
         "textposition": "bottom center",
         "type": "scatter",
         "x": {
          "bdata": "AAAAAAAA8D+VSynBge/vP2j6BgUYvu8/Jek3u/Vr7z8jfxaOb/nuP/FJcov7Zu4/XLHeqjC17T9+NRQyxuTsP1+hBPiS9us/uvBkh4zr6j9WMpEhxsTpPzlQz6Jvg+g/tTkVSdQo5z+WUJVeWbblP0ATccl8LeQ/A6sNgtOP4j9cLKDxB9/gP1a1P3WwOd4/thLH2SiW2j+KU4hOOdfWP1tDY1G+ANM/jFrgSlktzj+Mcwt+GjrGPyLsuGvkX7w/cyCwKKhcqD/N+ijPKj+QvwzJ6KS5SbS/3kQPZF83wr9P3qvaGjfKv5OAwi7oDdG/PSGBd67u1L83i/Tn4LnYv4vJmF6Wa9y/AgAAAAAA4L/P5tyRtrnhv860DJEnYeO/hlh3f5705L/bPrV2e3Lmv11Sx9Q02ee/JuDa0Vgn6b9dHHf9jlvqv4pZi6GZdOu/wfLvCVdx7L/ZTwivwlDtvxstUkL2Ee6/V1DNmyq07r9D8kaHuDbvvwQ9tXAZme+/XjTx7ufa778HB0As4PvvvwcHQCzg+++/XjTx7ufa778EPbVwGZnvv0PyRoe4Nu+/V1DNmyq07r8cLVJC9hHuv9lPCK/CUO2/wvLvCVdx7L+JWYuhmXTrv14cd/2OW+q/JeDa0Vgn6b9eUsfUNNnnv9o+tXZ7cua/iFh3f5705L/MtAyRJ2Hjv9Hm3JG2ueG/+f//////37+IyZhelmvcvzeL9Ofgudi/QSGBd67u1L+MgMIu6A3Rv0jeq9oaN8q/3kQPZF83wr8eyeikuUm0v1T6KM8qP5C/kCCwKKhcqD8R7Lhr5F+8P3xzC34aOsY/k1rgSlktzj9bQ2NRvgDTP4ZTiE4519Y/vRLH2SiW2j9ZtT91sDneP1wsoPEH3+A/AasNgtOP4j9DE3HJfC3kP5dQlV5ZtuU/tDkVSdQo5z83UM+ib4PoP1cykSHGxOk/uvBkh4zr6j9eoQT4kvbrP301FDLG5Ow/XbHeqjC17T/xSXKL+2buPyN/Fo5v+e4/Juk3u/Vr7z9o+gYFGL7vP5VLKcGB7+8/AAAAAAAA8D8=",
          "dtype": "f8"
         },
         "y": {
          "bdata": "AAAAAAAAAAADhrXMjDywP/CDAnguNMA/kayggGI5yD+aiNkBzxLQP9ofIiFb+NM/+5MNU1HJ1z+CQNqEwoHbPxlNPurYHd8/C1i7+O1M4T9GhZoMGvniPxwWPFK3keQ/ABg/lCAV5j+GGZN4xoHnP4hAIRwx1ug/lkFFlgER6j93zoZi8zDrPzKcHq/dNOw/EyzujrQb7T/B8a4NiuTtP/0jPCWPju4/3176khQZ7z8XHIGMi4PvPzTGy1KGze8/g6xao7j27z/vOc8G+P7vP2Zmsvw75u8/70I4BJ6s7z+/l/eBWVLvPwOssILL1+4/xVNiW3I97j+TIxAn7YPtP1EHwCL7q+w/qkxY6Hq26z+RVimJaaTqP5aCD4nhduk/oSg6uxkv6D+158MBZM7mP9KHZvErVuU/8nixWvXH4z8mRkW6WiXiP2ITsJELcOA/8qg+VZVT3T/agWKM2KjZP/gLinSo49U/v412/ecH0j/lKaSyIjPMP+bENsZjOcQ/3FNHxZdVuD+s23zJpD6gP8nbfMmkPqC/6lNHxZdVuL/txDbGYznEv9wppLIiM8y/wo12/ecH0r/0C4p0qOPVv92BYozYqNm/7qg+VZVT3b9jE7CRC3DgvyRGRbpaJeK/83ixWvXH47/Rh2bxK1blv7fnwwFkzua/oCg6uxkv6L+Xgg+J4Xbpv5BWKYlppOq/rExY6Hq2679SB8Ai+6vsv5MjECftg+2/xFNiW3I97r8ErLCCy9fuv7+X94FZUu+/70I4BJ6s779lZrL8O+bvv+85zwb4/u+/g6xao7j27780xstShs3vvxgcgYyLg++/3176khQZ77/9Izwlj47uv8Lxrg2K5O2/EizujrQb7b8xnB6v3TTsv3fOhmLzMOu/l0FFlgER6r+GQCEcMdbov4QZk3jGgee/ABg/lCAV5r8fFjxSt5Hkv0SFmgwa+eK/Cli7+O1M4b8bTT7q2B3fv4dA2oTCgdu/9ZMNU1HJ17/ZHyIhW/jTv52I2QHPEtC/gKyggGI5yL/ogwJ4LjTAvwSGtcyMPLC/B1wUMyamsbw=",
          "dtype": "f8"
         }
        }
       ],
       "layout": {
        "hovermode": "closest",
        "margin": {
         "b": 20,
         "l": 5,
         "r": 5,
         "t": 40
        },
        "showlegend": false,
        "template": {
         "data": {
          "bar": [
           {
            "error_x": {
             "color": "#2a3f5f"
            },
            "error_y": {
             "color": "#2a3f5f"
            },
            "marker": {
             "line": {
              "color": "#E5ECF6",
              "width": 0.5
             },
             "pattern": {
              "fillmode": "overlay",
              "size": 10,
              "solidity": 0.2
             }
            },
            "type": "bar"
           }
          ],
          "barpolar": [
           {
            "marker": {
             "line": {
              "color": "#E5ECF6",
              "width": 0.5
             },
             "pattern": {
              "fillmode": "overlay",
              "size": 10,
              "solidity": 0.2
             }
            },
            "type": "barpolar"
           }
          ],
          "carpet": [
           {
            "aaxis": {
             "endlinecolor": "#2a3f5f",
             "gridcolor": "white",
             "linecolor": "white",
             "minorgridcolor": "white",
             "startlinecolor": "#2a3f5f"
            },
            "baxis": {
             "endlinecolor": "#2a3f5f",
             "gridcolor": "white",
             "linecolor": "white",
             "minorgridcolor": "white",
             "startlinecolor": "#2a3f5f"
            },
            "type": "carpet"
           }
          ],
          "choropleth": [
           {
            "colorbar": {
             "outlinewidth": 0,
             "ticks": ""
            },
            "type": "choropleth"
           }
          ],
          "contour": [
           {
            "colorbar": {
             "outlinewidth": 0,
             "ticks": ""
            },
            "colorscale": [
             [
              0,
              "#0d0887"
             ],
             [
              0.1111111111111111,
              "#46039f"
             ],
             [
              0.2222222222222222,
              "#7201a8"
             ],
             [
              0.3333333333333333,
              "#9c179e"
             ],
             [
              0.4444444444444444,
              "#bd3786"
             ],
             [
              0.5555555555555556,
              "#d8576b"
             ],
             [
              0.6666666666666666,
              "#ed7953"
             ],
             [
              0.7777777777777778,
              "#fb9f3a"
             ],
             [
              0.8888888888888888,
              "#fdca26"
             ],
             [
              1,
              "#f0f921"
             ]
            ],
            "type": "contour"
           }
          ],
          "contourcarpet": [
           {
            "colorbar": {
             "outlinewidth": 0,
             "ticks": ""
            },
            "type": "contourcarpet"
           }
          ],
          "heatmap": [
           {
            "colorbar": {
             "outlinewidth": 0,
             "ticks": ""
            },
            "colorscale": [
             [
              0,
              "#0d0887"
             ],
             [
              0.1111111111111111,
              "#46039f"
             ],
             [
              0.2222222222222222,
              "#7201a8"
             ],
             [
              0.3333333333333333,
              "#9c179e"
             ],
             [
              0.4444444444444444,
              "#bd3786"
             ],
             [
              0.5555555555555556,
              "#d8576b"
             ],
             [
              0.6666666666666666,
              "#ed7953"
             ],
             [
              0.7777777777777778,
              "#fb9f3a"
             ],
             [
              0.8888888888888888,
              "#fdca26"
             ],
             [
              1,
              "#f0f921"
             ]
            ],
            "type": "heatmap"
           }
          ],
          "histogram": [
           {
            "marker": {
             "pattern": {
              "fillmode": "overlay",
              "size": 10,
              "solidity": 0.2
             }
            },
            "type": "histogram"
           }
          ],
          "histogram2d": [
           {
            "colorbar": {
             "outlinewidth": 0,
             "ticks": ""
            },
            "colorscale": [
             [
              0,
              "#0d0887"
             ],
             [
              0.1111111111111111,
              "#46039f"
             ],
             [
              0.2222222222222222,
              "#7201a8"
             ],
             [
              0.3333333333333333,
              "#9c179e"
             ],
             [
              0.4444444444444444,
              "#bd3786"
             ],
             [
              0.5555555555555556,
              "#d8576b"
             ],
             [
              0.6666666666666666,
              "#ed7953"
             ],
             [
              0.7777777777777778,
              "#fb9f3a"
             ],
             [
              0.8888888888888888,
              "#fdca26"
             ],
             [
              1,
              "#f0f921"
             ]
            ],
            "type": "histogram2d"
           }
          ],
          "histogram2dcontour": [
           {
            "colorbar": {
             "outlinewidth": 0,
             "ticks": ""
            },
            "colorscale": [
             [
              0,
              "#0d0887"
             ],
             [
              0.1111111111111111,
              "#46039f"
             ],
             [
              0.2222222222222222,
              "#7201a8"
             ],
             [
              0.3333333333333333,
              "#9c179e"
             ],
             [
              0.4444444444444444,
              "#bd3786"
             ],
             [
              0.5555555555555556,
              "#d8576b"
             ],
             [
              0.6666666666666666,
              "#ed7953"
             ],
             [
              0.7777777777777778,
              "#fb9f3a"
             ],
             [
              0.8888888888888888,
              "#fdca26"
             ],
             [
              1,
              "#f0f921"
             ]
            ],
            "type": "histogram2dcontour"
           }
          ],
          "mesh3d": [
           {
            "colorbar": {
             "outlinewidth": 0,
             "ticks": ""
            },
            "type": "mesh3d"
           }
          ],
          "parcoords": [
           {
            "line": {
             "colorbar": {
              "outlinewidth": 0,
              "ticks": ""
             }
            },
            "type": "parcoords"
           }
          ],
          "pie": [
           {
            "automargin": true,
            "type": "pie"
           }
          ],
          "scatter": [
           {
            "fillpattern": {
             "fillmode": "overlay",
             "size": 10,
             "solidity": 0.2
            },
            "type": "scatter"
           }
          ],
          "scatter3d": [
           {
            "line": {
             "colorbar": {
              "outlinewidth": 0,
              "ticks": ""
             }
            },
            "marker": {
             "colorbar": {
              "outlinewidth": 0,
              "ticks": ""
             }
            },
            "type": "scatter3d"
           }
          ],
          "scattercarpet": [
           {
            "marker": {
             "colorbar": {
              "outlinewidth": 0,
              "ticks": ""
             }
            },
            "type": "scattercarpet"
           }
          ],
          "scattergeo": [
           {
            "marker": {
             "colorbar": {
              "outlinewidth": 0,
              "ticks": ""
             }
            },
            "type": "scattergeo"
           }
          ],
          "scattergl": [
           {
            "marker": {
             "colorbar": {
              "outlinewidth": 0,
              "ticks": ""
             }
            },
            "type": "scattergl"
           }
          ],
          "scattermap": [
           {
            "marker": {
             "colorbar": {
              "outlinewidth": 0,
              "ticks": ""
             }
            },
            "type": "scattermap"
           }
          ],
          "scattermapbox": [
           {
            "marker": {
             "colorbar": {
              "outlinewidth": 0,
              "ticks": ""
             }
            },
            "type": "scattermapbox"
           }
          ],
          "scatterpolar": [
           {
            "marker": {
             "colorbar": {
              "outlinewidth": 0,
              "ticks": ""
             }
            },
            "type": "scatterpolar"
           }
          ],
          "scatterpolargl": [
           {
            "marker": {
             "colorbar": {
              "outlinewidth": 0,
              "ticks": ""
             }
            },
            "type": "scatterpolargl"
           }
          ],
          "scatterternary": [
           {
            "marker": {
             "colorbar": {
              "outlinewidth": 0,
              "ticks": ""
             }
            },
            "type": "scatterternary"
           }
          ],
          "surface": [
           {
            "colorbar": {
             "outlinewidth": 0,
             "ticks": ""
            },
            "colorscale": [
             [
              0,
              "#0d0887"
             ],
             [
              0.1111111111111111,
              "#46039f"
             ],
             [
              0.2222222222222222,
              "#7201a8"
             ],
             [
              0.3333333333333333,
              "#9c179e"
             ],
             [
              0.4444444444444444,
              "#bd3786"
             ],
             [
              0.5555555555555556,
              "#d8576b"
             ],
             [
              0.6666666666666666,
              "#ed7953"
             ],
             [
              0.7777777777777778,
              "#fb9f3a"
             ],
             [
              0.8888888888888888,
              "#fdca26"
             ],
             [
              1,
              "#f0f921"
             ]
            ],
            "type": "surface"
           }
          ],
          "table": [
           {
            "cells": {
             "fill": {
              "color": "#EBF0F8"
             },
             "line": {
              "color": "white"
             }
            },
            "header": {
             "fill": {
              "color": "#C8D4E3"
             },
             "line": {
              "color": "white"
             }
            },
            "type": "table"
           }
          ]
         },
         "layout": {
          "annotationdefaults": {
           "arrowcolor": "#2a3f5f",
           "arrowhead": 0,
           "arrowwidth": 1
          },
          "autotypenumbers": "strict",
          "coloraxis": {
           "colorbar": {
            "outlinewidth": 0,
            "ticks": ""
           }
          },
          "colorscale": {
           "diverging": [
            [
             0,
             "#8e0152"
            ],
            [
             0.1,
             "#c51b7d"
            ],
            [
             0.2,
             "#de77ae"
            ],
            [
             0.3,
             "#f1b6da"
            ],
            [
             0.4,
             "#fde0ef"
            ],
            [
             0.5,
             "#f7f7f7"
            ],
            [
             0.6,
             "#e6f5d0"
            ],
            [
             0.7,
             "#b8e186"
            ],
            [
             0.8,
             "#7fbc41"
            ],
            [
             0.9,
             "#4d9221"
            ],
            [
             1,
             "#276419"
            ]
           ],
           "sequential": [
            [
             0,
             "#0d0887"
            ],
            [
             0.1111111111111111,
             "#46039f"
            ],
            [
             0.2222222222222222,
             "#7201a8"
            ],
            [
             0.3333333333333333,
             "#9c179e"
            ],
            [
             0.4444444444444444,
             "#bd3786"
            ],
            [
             0.5555555555555556,
             "#d8576b"
            ],
            [
             0.6666666666666666,
             "#ed7953"
            ],
            [
             0.7777777777777778,
             "#fb9f3a"
            ],
            [
             0.8888888888888888,
             "#fdca26"
            ],
            [
             1,
             "#f0f921"
            ]
           ],
           "sequentialminus": [
            [
             0,
             "#0d0887"
            ],
            [
             0.1111111111111111,
             "#46039f"
            ],
            [
             0.2222222222222222,
             "#7201a8"
            ],
            [
             0.3333333333333333,
             "#9c179e"
            ],
            [
             0.4444444444444444,
             "#bd3786"
            ],
            [
             0.5555555555555556,
             "#d8576b"
            ],
            [
             0.6666666666666666,
             "#ed7953"
            ],
            [
             0.7777777777777778,
             "#fb9f3a"
            ],
            [
             0.8888888888888888,
             "#fdca26"
            ],
            [
             1,
             "#f0f921"
            ]
           ]
          },
          "colorway": [
           "#636efa",
           "#EF553B",
           "#00cc96",
           "#ab63fa",
           "#FFA15A",
           "#19d3f3",
           "#FF6692",
           "#B6E880",
           "#FF97FF",
           "#FECB52"
          ],
          "font": {
           "color": "#2a3f5f"
          },
          "geo": {
           "bgcolor": "white",
           "lakecolor": "white",
           "landcolor": "#E5ECF6",
           "showlakes": true,
           "showland": true,
           "subunitcolor": "white"
          },
          "hoverlabel": {
           "align": "left"
          },
          "hovermode": "closest",
          "mapbox": {
           "style": "light"
          },
          "paper_bgcolor": "white",
          "plot_bgcolor": "#E5ECF6",
          "polar": {
           "angularaxis": {
            "gridcolor": "white",
            "linecolor": "white",
            "ticks": ""
           },
           "bgcolor": "#E5ECF6",
           "radialaxis": {
            "gridcolor": "white",
            "linecolor": "white",
            "ticks": ""
           }
          },
          "scene": {
           "xaxis": {
            "backgroundcolor": "#E5ECF6",
            "gridcolor": "white",
            "gridwidth": 2,
            "linecolor": "white",
            "showbackground": true,
            "ticks": "",
            "zerolinecolor": "white"
           },
           "yaxis": {
            "backgroundcolor": "#E5ECF6",
            "gridcolor": "white",
            "gridwidth": 2,
            "linecolor": "white",
            "showbackground": true,
            "ticks": "",
            "zerolinecolor": "white"
           },
           "zaxis": {
            "backgroundcolor": "#E5ECF6",
            "gridcolor": "white",
            "gridwidth": 2,
            "linecolor": "white",
            "showbackground": true,
            "ticks": "",
            "zerolinecolor": "white"
           }
          },
          "shapedefaults": {
           "line": {
            "color": "#2a3f5f"
           }
          },
          "ternary": {
           "aaxis": {
            "gridcolor": "white",
            "linecolor": "white",
            "ticks": ""
           },
           "baxis": {
            "gridcolor": "white",
            "linecolor": "white",
            "ticks": ""
           },
           "bgcolor": "#E5ECF6",
           "caxis": {
            "gridcolor": "white",
            "linecolor": "white",
            "ticks": ""
           }
          },
          "title": {
           "x": 0.05
          },
          "xaxis": {
           "automargin": true,
           "gridcolor": "white",
           "linecolor": "white",
           "ticks": "",
           "title": {
            "standoff": 15
           },
           "zerolinecolor": "white",
           "zerolinewidth": 2
          },
          "yaxis": {
           "automargin": true,
           "gridcolor": "white",
           "linecolor": "white",
           "ticks": "",
           "title": {
            "standoff": 15
           },
           "zerolinecolor": "white",
           "zerolinewidth": 2
          }
         }
        },
        "title": {
         "text": "<br>Influence Network of Investment-Ready Leads"
        },
        "xaxis": {
         "showgrid": false,
         "showticklabels": false,
         "zeroline": false
        },
        "yaxis": {
         "showgrid": false,
         "showticklabels": false,
         "zeroline": false
        }
       }
      }
     },
     "metadata": {},
     "output_type": "display_data"
    }
   ],
   "source": [
    "import pandas as pd\n",
    "import plotly.graph_objects as go\n",
    "from sklearn.metrics.pairwise import cosine_similarity\n",
    "from sklearn.preprocessing import StandardScaler\n",
    "from sklearn.cluster import KMeans\n",
    "import numpy as np\n",
    "\n",
    "# Load the uploaded CSV\n",
    "df = pd.read_csv(\"simulated_deals.csv\")\n",
    "\n",
    "# Basic cleanup: drop NA and select numerical features for similarity\n",
    "features = ['Revenue', 'EmailScore', 'domain_age_years', 'num_funding_rounds', 'confidence_score']\n",
    "df_clean = df.dropna(subset=features).copy()\n",
    "\n",
    "# Standardize the features\n",
    "scaler = StandardScaler()\n",
    "X_scaled = scaler.fit_transform(df_clean[features])\n",
    "\n",
    "# Calculate similarity matrix\n",
    "similarity_matrix = cosine_similarity(X_scaled)\n",
    "\n",
    "# Apply clustering for node color grouping\n",
    "kmeans = KMeans(n_clusters=3, random_state=42)\n",
    "clusters = kmeans.fit_predict(X_scaled)\n",
    "df_clean[\"cluster\"] = clusters\n",
    "\n",
    "# Create edge list from similarity matrix (threshold-based)\n",
    "edges = []\n",
    "threshold = 0.90  # high similarity\n",
    "for i in range(similarity_matrix.shape[0]):\n",
    "    for j in range(i + 1, similarity_matrix.shape[1]):\n",
    "        if similarity_matrix[i, j] > threshold:\n",
    "            edges.append((i, j, similarity_matrix[i, j]))\n",
    "\n",
    "# Generate node positions using circular layout\n",
    "theta = np.linspace(0, 2 * np.pi, len(df_clean))\n",
    "x_pos = np.cos(theta)\n",
    "y_pos = np.sin(theta)\n",
    "\n",
    "# Plotly network graph\n",
    "edge_trace = go.Scatter(\n",
    "    x=[],\n",
    "    y=[],\n",
    "    line=dict(width=1, color='gray'),\n",
    "    hoverinfo='none',\n",
    "    mode='lines'\n",
    ")\n",
    "\n",
    "for edge in edges:\n",
    "    x0, y0 = x_pos[edge[0]], y_pos[edge[0]]\n",
    "    x1, y1 = x_pos[edge[1]], y_pos[edge[1]]\n",
    "    edge_trace['x'] += (x0, x1, None)\n",
    "    edge_trace['y'] += (y0, y1, None)\n",
    "\n",
    "# Node trace\n",
    "node_trace = go.Scatter(\n",
    "    x=x_pos,\n",
    "    y=y_pos,\n",
    "    mode='markers+text',\n",
    "    text=df_clean['CompanyName'],\n",
    "    textposition='bottom center',\n",
    "    marker=dict(\n",
    "        showscale=True,\n",
    "        colorscale='Viridis',\n",
    "        size=15,\n",
    "        color=df_clean['cluster'],\n",
    "        colorbar=dict(\n",
    "            thickness=15,\n",
    "            title='Cluster',\n",
    "            xanchor='left'\n",
    "            # titleside='right'\n",
    "        ),\n",
    "        line_width=2\n",
    "    ),\n",
    "    hovertext=[\n",
    "        f\"{row['CompanyName']}<br>Revenue: {row['Revenue']}<br>Confidence: {row['confidence_score']}\" \n",
    "        for _, row in df_clean.iterrows()\n",
    "    ],\n",
    "    hoverinfo='text'\n",
    ")\n",
    "\n",
    "# Final figure\n",
    "fig = go.Figure(data=[edge_trace, node_trace],\n",
    "                layout=go.Layout(\n",
    "                    title='<br>Influence Network of Investment-Ready Leads',\n",
    "                    # titlefont_size=20,\n",
    "                    showlegend=False,\n",
    "                    hovermode='closest',\n",
    "                    margin=dict(b=20, l=5, r=5, t=40),\n",
    "                    xaxis=dict(showgrid=False, zeroline=False, showticklabels=False),\n",
    "                    yaxis=dict(showgrid=False, zeroline=False, showticklabels=False)\n",
    "                ))\n",
    "\n",
    "fig.show()\n"
   ]
  }
 ],
 "metadata": {
  "kernelspec": {
   "display_name": "Python 3",
   "language": "python",
   "name": "python3"
  },
  "language_info": {
   "codemirror_mode": {
    "name": "ipython",
    "version": 3
   },
   "file_extension": ".py",
   "mimetype": "text/x-python",
   "name": "python",
   "nbconvert_exporter": "python",
   "pygments_lexer": "ipython3",
   "version": "3.9.13"
  }
 },
 "nbformat": 4,
 "nbformat_minor": 5
}
